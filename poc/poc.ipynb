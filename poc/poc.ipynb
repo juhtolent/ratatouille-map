{
 "cells": [
  {
   "cell_type": "code",
   "execution_count": 2,
   "metadata": {},
   "outputs": [],
   "source": [
    "import html\n",
    "import re\n",
    "import requests"
   ]
  },
  {
   "cell_type": "markdown",
   "metadata": {},
   "source": [
    "fonte: https://gist.github.com/ByteSizedMarius/8c9df821ebb69b07f2d82de01e68387d <br>\n",
    "resposta stack overflow: https://stackoverflow.com/questions/50964713/obtain-list-of-my-places-from-google-maps/74957479#749574798\n"
   ]
  },
  {
   "cell_type": "code",
   "execution_count": 70,
   "metadata": {},
   "outputs": [],
   "source": [
    "# todos os resultados\n",
    "x: requests.Response = requests.get(\"https://google.com/maps/@/data=!3m1!4b1!4m3!11m2!2surLpP2IDzhnAsYrsgACRFjdCIiYM4A!3e3?entry=tts&g_ep=EgoyMDI1MDEyOC4wKgBIAVAD?ucbcb=1\")\n",
    "\n",
    "txt = x.text.split(r\")]}'\\n\")[2].split(\"]]\\\"],\")[0] + \"]]\"\n",
    "txt = html.unescape(txt)\n",
    "\n",
    "results = re.findall(r'\\[null,null,(-?[0-9]+\\.[0-9]+),(-?[0-9]+\\.[0-9]+)\\]', txt)"
   ]
  },
  {
   "cell_type": "code",
   "execution_count": null,
   "metadata": {},
   "outputs": [],
   "source": []
  }
 ],
 "metadata": {
  "kernelspec": {
   "display_name": "Python 3",
   "language": "python",
   "name": "python3"
  },
  "language_info": {
   "codemirror_mode": {
    "name": "ipython",
    "version": 3
   },
   "file_extension": ".py",
   "mimetype": "text/x-python",
   "name": "python",
   "nbconvert_exporter": "python",
   "pygments_lexer": "ipython3",
   "version": "3.12.6"
  }
 },
 "nbformat": 4,
 "nbformat_minor": 2
}
